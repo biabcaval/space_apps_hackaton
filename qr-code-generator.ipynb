{
 "cells": [
  {
   "cell_type": "code",
   "execution_count": 1,
   "id": "9e559189",
   "metadata": {},
   "outputs": [],
   "source": [
    "import urllib.parse\n",
    "import qrcode\n",
    "\n",
    "number = \"558181447236\"\n",
    "message = \"Hello, here is my location: -7.1249765,-34.8695281\"\n",
    "encoded_message = urllib.parse.quote(message)\n",
    "url = f\"https://wa.me/{number}?text={encoded_message}\"\n",
    "qr = qrcode.make(url)\n",
    "qr.save(\"whatsapp_qr.png\")"
   ]
  }
 ],
 "metadata": {
  "kernelspec": {
   "display_name": ".venv",
   "language": "python",
   "name": "python3"
  },
  "language_info": {
   "codemirror_mode": {
    "name": "ipython",
    "version": 3
   },
   "file_extension": ".py",
   "mimetype": "text/x-python",
   "name": "python",
   "nbconvert_exporter": "python",
   "pygments_lexer": "ipython3",
   "version": "3.12.3"
  }
 },
 "nbformat": 4,
 "nbformat_minor": 5
}
