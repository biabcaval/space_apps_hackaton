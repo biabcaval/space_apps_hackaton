{
 "cells": [
  {
   "cell_type": "code",
   "execution_count": 3,
   "id": "ab5afd34",
   "metadata": {},
   "outputs": [],
   "source": [
    "# Load packages into current runtime\n",
    "import datetime as dt\n",
    "import getpass\n",
    "\n",
    "import numpy as np\n",
    "import xarray as xr\n",
    "\n",
    "import matplotlib.pyplot as plt\n",
    "from xarray.plot.utils import label_from_attrs\n",
    "\n",
    "from harmony import BBox, Client, Collection, Request\n",
    "from harmony.config import Environment"
   ]
  },
  {
   "cell_type": "code",
   "execution_count": 4,
   "id": "e1d80d6b",
   "metadata": {},
   "outputs": [
    {
     "name": "stdout",
     "output_type": "stream",
     "text": [
      "Please provide your Earthdata Login credentials to allow data access\n",
      "Your credentials will only be passed to Earthdata and will not be exposed in the notebook\n"
     ]
    }
   ],
   "source": [
    "print(\"Please provide your Earthdata Login credentials to allow data access\")\n",
    "print(\"Your credentials will only be passed to Earthdata and will not be exposed in the notebook\")\n",
    "username = input(\"Username:\")\n",
    "\n",
    "harmony_client = Client(env=Environment.PROD, auth=(username, getpass.getpass()))"
   ]
  },
  {
   "cell_type": "code",
   "execution_count": null,
   "id": "8224d498",
   "metadata": {},
   "outputs": [],
   "source": []
  }
 ],
 "metadata": {
  "kernelspec": {
   "display_name": "nasa_space_apps",
   "language": "python",
   "name": "python3"
  },
  "language_info": {
   "codemirror_mode": {
    "name": "ipython",
    "version": 3
   },
   "file_extension": ".py",
   "mimetype": "text/x-python",
   "name": "python",
   "nbconvert_exporter": "python",
   "pygments_lexer": "ipython3",
   "version": "3.12.10"
  }
 },
 "nbformat": 4,
 "nbformat_minor": 5
}
