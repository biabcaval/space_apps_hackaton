{
 "cells": [
  {
   "cell_type": "code",
   "execution_count": 1,
   "id": "7705a3ed",
   "metadata": {},
   "outputs": [],
   "source": [
    "import pandas as pd"
   ]
  },
  {
   "cell_type": "code",
   "execution_count": 2,
   "id": "e8c181ac",
   "metadata": {},
   "outputs": [
    {
     "data": {
      "text/html": [
       "<div>\n",
       "<style scoped>\n",
       "    .dataframe tbody tr th:only-of-type {\n",
       "        vertical-align: middle;\n",
       "    }\n",
       "\n",
       "    .dataframe tbody tr th {\n",
       "        vertical-align: top;\n",
       "    }\n",
       "\n",
       "    .dataframe thead th {\n",
       "        text-align: right;\n",
       "    }\n",
       "</style>\n",
       "<table border=\"1\" class=\"dataframe\">\n",
       "  <thead>\n",
       "    <tr style=\"text-align: right;\">\n",
       "      <th></th>\n",
       "      <th>Latitude</th>\n",
       "      <th>Longitude</th>\n",
       "      <th>O3_Total</th>\n",
       "      <th>CO_Total</th>\n",
       "      <th>CH4_Total</th>\n",
       "    </tr>\n",
       "  </thead>\n",
       "  <tbody>\n",
       "    <tr>\n",
       "      <th>0</th>\n",
       "      <td>-15.349151</td>\n",
       "      <td>-48.470420</td>\n",
       "      <td>267.37370</td>\n",
       "      <td>1.637240e+18</td>\n",
       "      <td>3.640315e+19</td>\n",
       "    </tr>\n",
       "    <tr>\n",
       "      <th>1</th>\n",
       "      <td>-15.233881</td>\n",
       "      <td>-47.513914</td>\n",
       "      <td>265.43814</td>\n",
       "      <td>1.514873e+18</td>\n",
       "      <td>3.635463e+19</td>\n",
       "    </tr>\n",
       "    <tr>\n",
       "      <th>2</th>\n",
       "      <td>-15.131617</td>\n",
       "      <td>-46.697904</td>\n",
       "      <td>268.87347</td>\n",
       "      <td>1.708373e+18</td>\n",
       "      <td>3.651601e+19</td>\n",
       "    </tr>\n",
       "    <tr>\n",
       "      <th>3</th>\n",
       "      <td>-15.040125</td>\n",
       "      <td>-45.991897</td>\n",
       "      <td>268.29572</td>\n",
       "      <td>1.451670e+18</td>\n",
       "      <td>3.644321e+19</td>\n",
       "    </tr>\n",
       "    <tr>\n",
       "      <th>4</th>\n",
       "      <td>-14.956577</td>\n",
       "      <td>-45.365468</td>\n",
       "      <td>268.03445</td>\n",
       "      <td>1.436708e+18</td>\n",
       "      <td>3.680044e+19</td>\n",
       "    </tr>\n",
       "  </tbody>\n",
       "</table>\n",
       "</div>"
      ],
      "text/plain": [
       "    Latitude  Longitude   O3_Total      CO_Total     CH4_Total\n",
       "0 -15.349151 -48.470420  267.37370  1.637240e+18  3.640315e+19\n",
       "1 -15.233881 -47.513914  265.43814  1.514873e+18  3.635463e+19\n",
       "2 -15.131617 -46.697904  268.87347  1.708373e+18  3.651601e+19\n",
       "3 -15.040125 -45.991897  268.29572  1.451670e+18  3.644321e+19\n",
       "4 -14.956577 -45.365468  268.03445  1.436708e+18  3.680044e+19"
      ]
     },
     "execution_count": 2,
     "metadata": {},
     "output_type": "execute_result"
    }
   ],
   "source": [
    "df = pd.read_csv(\"processed_airs_data.csv\")\n",
    "df.head()"
   ]
  },
  {
   "cell_type": "code",
   "execution_count": null,
   "id": "7e7a92ed",
   "metadata": {},
   "outputs": [
    {
     "ename": "GeocoderInsufficientPrivileges",
     "evalue": "Non-successful status code 403",
     "output_type": "error",
     "traceback": [
      "\u001b[31m---------------------------------------------------------------------------\u001b[39m",
      "\u001b[31mAdapterHTTPError\u001b[39m                          Traceback (most recent call last)",
      "\u001b[36mFile \u001b[39m\u001b[32m~/Documents/Code/space_apps_hackaton/.venv/lib/python3.12/site-packages/geopy/geocoders/base.py:368\u001b[39m, in \u001b[36mGeocoder._call_geocoder\u001b[39m\u001b[34m(self, url, callback, timeout, is_json, headers)\u001b[39m\n\u001b[32m    367\u001b[39m \u001b[38;5;28;01mif\u001b[39;00m is_json:\n\u001b[32m--> \u001b[39m\u001b[32m368\u001b[39m     result = \u001b[38;5;28;43mself\u001b[39;49m\u001b[43m.\u001b[49m\u001b[43madapter\u001b[49m\u001b[43m.\u001b[49m\u001b[43mget_json\u001b[49m\u001b[43m(\u001b[49m\u001b[43murl\u001b[49m\u001b[43m,\u001b[49m\u001b[43m \u001b[49m\u001b[43mtimeout\u001b[49m\u001b[43m=\u001b[49m\u001b[43mtimeout\u001b[49m\u001b[43m,\u001b[49m\u001b[43m \u001b[49m\u001b[43mheaders\u001b[49m\u001b[43m=\u001b[49m\u001b[43mreq_headers\u001b[49m\u001b[43m)\u001b[49m\n\u001b[32m    369\u001b[39m \u001b[38;5;28;01melse\u001b[39;00m:\n",
      "\u001b[36mFile \u001b[39m\u001b[32m~/Documents/Code/space_apps_hackaton/.venv/lib/python3.12/site-packages/geopy/adapters.py:472\u001b[39m, in \u001b[36mRequestsAdapter.get_json\u001b[39m\u001b[34m(self, url, timeout, headers)\u001b[39m\n\u001b[32m    471\u001b[39m \u001b[38;5;28;01mdef\u001b[39;00m\u001b[38;5;250m \u001b[39m\u001b[34mget_json\u001b[39m(\u001b[38;5;28mself\u001b[39m, url, *, timeout, headers):\n\u001b[32m--> \u001b[39m\u001b[32m472\u001b[39m     resp = \u001b[38;5;28;43mself\u001b[39;49m\u001b[43m.\u001b[49m\u001b[43m_request\u001b[49m\u001b[43m(\u001b[49m\u001b[43murl\u001b[49m\u001b[43m,\u001b[49m\u001b[43m \u001b[49m\u001b[43mtimeout\u001b[49m\u001b[43m=\u001b[49m\u001b[43mtimeout\u001b[49m\u001b[43m,\u001b[49m\u001b[43m \u001b[49m\u001b[43mheaders\u001b[49m\u001b[43m=\u001b[49m\u001b[43mheaders\u001b[49m\u001b[43m)\u001b[49m\n\u001b[32m    473\u001b[39m     \u001b[38;5;28;01mtry\u001b[39;00m:\n",
      "\u001b[36mFile \u001b[39m\u001b[32m~/Documents/Code/space_apps_hackaton/.venv/lib/python3.12/site-packages/geopy/adapters.py:500\u001b[39m, in \u001b[36mRequestsAdapter._request\u001b[39m\u001b[34m(self, url, timeout, headers)\u001b[39m\n\u001b[32m    499\u001b[39m     \u001b[38;5;28;01mif\u001b[39;00m resp.status_code >= \u001b[32m400\u001b[39m:\n\u001b[32m--> \u001b[39m\u001b[32m500\u001b[39m         \u001b[38;5;28;01mraise\u001b[39;00m AdapterHTTPError(\n\u001b[32m    501\u001b[39m             \u001b[33m\"\u001b[39m\u001b[33mNon-successful status code \u001b[39m\u001b[38;5;132;01m%s\u001b[39;00m\u001b[33m\"\u001b[39m % resp.status_code,\n\u001b[32m    502\u001b[39m             status_code=resp.status_code,\n\u001b[32m    503\u001b[39m             headers=resp.headers,\n\u001b[32m    504\u001b[39m             text=resp.text,\n\u001b[32m    505\u001b[39m         )\n\u001b[32m    507\u001b[39m \u001b[38;5;28;01mreturn\u001b[39;00m resp\n",
      "\u001b[31mAdapterHTTPError\u001b[39m: Non-successful status code 403",
      "\nThe above exception was the direct cause of the following exception:\n",
      "\u001b[31mGeocoderInsufficientPrivileges\u001b[39m            Traceback (most recent call last)",
      "\u001b[36mCell\u001b[39m\u001b[36m \u001b[39m\u001b[32mIn[4]\u001b[39m\u001b[32m, line 10\u001b[39m\n\u001b[32m      8\u001b[39m \u001b[38;5;28;01mfrom\u001b[39;00m\u001b[38;5;250m \u001b[39m\u001b[34;01mgeopy\u001b[39;00m\u001b[34;01m.\u001b[39;00m\u001b[34;01mgeocoders\u001b[39;00m\u001b[38;5;250m \u001b[39m\u001b[38;5;28;01mimport\u001b[39;00m Nominatim\n\u001b[32m      9\u001b[39m geolocator = Nominatim(user_agent=\u001b[33m\"\u001b[39m\u001b[33mgeoapiExercises\u001b[39m\u001b[33m\"\u001b[39m)\n\u001b[32m---> \u001b[39m\u001b[32m10\u001b[39m locations = [\u001b[43mgeolocator\u001b[49m\u001b[43m.\u001b[49m\u001b[43mreverse\u001b[49m\u001b[43m(\u001b[49m\u001b[43mpoint\u001b[49m\u001b[43m)\u001b[49m \u001b[38;5;28;01mfor\u001b[39;00m point \u001b[38;5;129;01min\u001b[39;00m box]\n\u001b[32m     11\u001b[39m \u001b[38;5;28;01mfor\u001b[39;00m loc \u001b[38;5;129;01min\u001b[39;00m locations:\n\u001b[32m     12\u001b[39m     \u001b[38;5;28mprint\u001b[39m(loc.address)\n",
      "\u001b[36mFile \u001b[39m\u001b[32m~/Documents/Code/space_apps_hackaton/.venv/lib/python3.12/site-packages/geopy/geocoders/nominatim.py:372\u001b[39m, in \u001b[36mNominatim.reverse\u001b[39m\u001b[34m(self, query, exactly_one, timeout, language, addressdetails, zoom, namedetails)\u001b[39m\n\u001b[32m    370\u001b[39m logger.debug(\u001b[33m\"\u001b[39m\u001b[38;5;132;01m%s\u001b[39;00m\u001b[33m.reverse: \u001b[39m\u001b[38;5;132;01m%s\u001b[39;00m\u001b[33m\"\u001b[39m, \u001b[38;5;28mself\u001b[39m.\u001b[34m__class__\u001b[39m.\u001b[34m__name__\u001b[39m, url)\n\u001b[32m    371\u001b[39m callback = partial(\u001b[38;5;28mself\u001b[39m._parse_json, exactly_one=exactly_one)\n\u001b[32m--> \u001b[39m\u001b[32m372\u001b[39m \u001b[38;5;28;01mreturn\u001b[39;00m \u001b[38;5;28;43mself\u001b[39;49m\u001b[43m.\u001b[49m\u001b[43m_call_geocoder\u001b[49m\u001b[43m(\u001b[49m\u001b[43murl\u001b[49m\u001b[43m,\u001b[49m\u001b[43m \u001b[49m\u001b[43mcallback\u001b[49m\u001b[43m,\u001b[49m\u001b[43m \u001b[49m\u001b[43mtimeout\u001b[49m\u001b[43m=\u001b[49m\u001b[43mtimeout\u001b[49m\u001b[43m)\u001b[49m\n",
      "\u001b[36mFile \u001b[39m\u001b[32m~/Documents/Code/space_apps_hackaton/.venv/lib/python3.12/site-packages/geopy/geocoders/base.py:388\u001b[39m, in \u001b[36mGeocoder._call_geocoder\u001b[39m\u001b[34m(self, url, callback, timeout, is_json, headers)\u001b[39m\n\u001b[32m    386\u001b[39m         \u001b[38;5;28;01mreturn\u001b[39;00m callback(result)\n\u001b[32m    387\u001b[39m \u001b[38;5;28;01mexcept\u001b[39;00m \u001b[38;5;167;01mException\u001b[39;00m \u001b[38;5;28;01mas\u001b[39;00m error:\n\u001b[32m--> \u001b[39m\u001b[32m388\u001b[39m     res = \u001b[38;5;28;43mself\u001b[39;49m\u001b[43m.\u001b[49m\u001b[43m_adapter_error_handler\u001b[49m\u001b[43m(\u001b[49m\u001b[43merror\u001b[49m\u001b[43m)\u001b[49m\n\u001b[32m    389\u001b[39m     \u001b[38;5;28;01mif\u001b[39;00m res \u001b[38;5;129;01mis\u001b[39;00m NONE_RESULT:\n\u001b[32m    390\u001b[39m         \u001b[38;5;28;01mreturn\u001b[39;00m \u001b[38;5;28;01mNone\u001b[39;00m\n",
      "\u001b[36mFile \u001b[39m\u001b[32m~/Documents/Code/space_apps_hackaton/.venv/lib/python3.12/site-packages/geopy/geocoders/base.py:411\u001b[39m, in \u001b[36mGeocoder._adapter_error_handler\u001b[39m\u001b[34m(self, error)\u001b[39m\n\u001b[32m    407\u001b[39m         \u001b[38;5;28;01mraise\u001b[39;00m exc_cls(\n\u001b[32m    408\u001b[39m             \u001b[38;5;28mstr\u001b[39m(error), retry_after=get_retry_after(error.headers)\n\u001b[32m    409\u001b[39m         ) \u001b[38;5;28;01mfrom\u001b[39;00m\u001b[38;5;250m \u001b[39m\u001b[34;01merror\u001b[39;00m\n\u001b[32m    410\u001b[39m     \u001b[38;5;28;01melse\u001b[39;00m:\n\u001b[32m--> \u001b[39m\u001b[32m411\u001b[39m         \u001b[38;5;28;01mraise\u001b[39;00m exc_cls(\u001b[38;5;28mstr\u001b[39m(error)) \u001b[38;5;28;01mfrom\u001b[39;00m\u001b[38;5;250m \u001b[39m\u001b[34;01merror\u001b[39;00m\n\u001b[32m    412\u001b[39m \u001b[38;5;28;01melse\u001b[39;00m:\n\u001b[32m    413\u001b[39m     res = \u001b[38;5;28mself\u001b[39m._geocoder_exception_handler(error)\n",
      "\u001b[31mGeocoderInsufficientPrivileges\u001b[39m: Non-successful status code 403"
     ]
    }
   ],
   "source": [
    "# get the 4 points from the box (Lat, Lon)\n",
    "box = [(df['Latitude'].min(), df['Longitude'].min()),\n",
    "        (df['Latitude'].min(), df['Longitude'].max()),\n",
    "        (df['Latitude'].max(), df['Longitude'].max()),\n",
    "        (df['Latitude'].max(), df['Longitude'].min())]\n",
    "\n",
    "# get the geographic location (city) of each point\n"
   ]
  }
 ],
 "metadata": {
  "kernelspec": {
   "display_name": ".venv",
   "language": "python",
   "name": "python3"
  },
  "language_info": {
   "codemirror_mode": {
    "name": "ipython",
    "version": 3
   },
   "file_extension": ".py",
   "mimetype": "text/x-python",
   "name": "python",
   "nbconvert_exporter": "python",
   "pygments_lexer": "ipython3",
   "version": "3.12.3"
  }
 },
 "nbformat": 4,
 "nbformat_minor": 5
}
