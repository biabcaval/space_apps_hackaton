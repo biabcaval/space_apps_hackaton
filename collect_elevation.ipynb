{
 "cells": [
  {
   "cell_type": "markdown",
   "id": "6fa6aa3f",
   "metadata": {},
   "source": [
    "Botar elevação "
   ]
  },
  {
   "cell_type": "code",
   "execution_count": 1,
   "id": "1448eef3",
   "metadata": {},
   "outputs": [],
   "source": [
    "import requests\n",
    "import pandas as pd"
   ]
  },
  {
   "cell_type": "code",
   "execution_count": 2,
   "id": "d64330b6",
   "metadata": {},
   "outputs": [],
   "source": [
    "df = pd.read_csv(\"data/US_GeoCode.csv\")"
   ]
  },
  {
   "cell_type": "code",
   "execution_count": 4,
   "id": "0b7f30aa",
   "metadata": {},
   "outputs": [
    {
     "name": "stdout",
     "output_type": "stream",
     "text": [
      "Alaska: 0.0 m\n",
      "Alabama: 60.0 m\n",
      "Arkansas: 141.0 m\n",
      "Arizona: 1509.0 m\n",
      "California: 147.0 m\n",
      "Colorado: 3428.0 m\n",
      "Connecticut: 206.0 m\n",
      "District of Columbia: 47.0 m\n",
      "Delaware: 19.0 m\n",
      "Florida: 31.0 m\n",
      "Georgia: 75.0 m\n",
      "Hawaii: 1084.0 m\n",
      "Iowa: 307.0 m\n",
      "Idaho: 2439.0 m\n",
      "Illinois: 251.0 m\n",
      "Indiana: 261.0 m\n",
      "Kansas: 465.0 m\n",
      "Kentucky: 213.0 m\n",
      "Louisiana: 21.0 m\n",
      "Massachusetts: 41.0 m\n",
      "Maryland: 30.0 m\n",
      "Maine: 189.0 m\n",
      "Michigan: 425.0 m\n",
      "Minnesota: 438.0 m\n",
      "Missouri: 304.0 m\n",
      "Mississippi: 133.0 m\n",
      "Montana: 1622.0 m\n",
      "North Carolina: 69.0 m\n",
      "North Dakota: 563.0 m\n",
      "Nebraska: 889.0 m\n",
      "New Hampshire: 103.0 m\n",
      "New Jersey: 34.0 m\n",
      "New Mexico: 1643.0 m\n",
      "Nevada: 2036.0 m\n",
      "New York: 375.0 m\n",
      "Ohio: 300.0 m\n",
      "Oklahoma: 338.0 m\n",
      "Oregon: 1414.0 m\n",
      "Pennsylvania: 183.0 m\n",
      "Puerto Rico: 445.0 m\n",
      "Rhode Island: 5.0 m\n",
      "South Carolina: 135.0 m\n",
      "South Dakota: 529.0 m\n",
      "Tennessee: 225.0 m\n",
      "Texas: 571.0 m\n",
      "Utah: 2437.0 m\n",
      "Virginia: 204.0 m\n",
      "Vermont: 246.0 m\n",
      "Washington: 625.0 m\n",
      "Wisconsin: 308.0 m\n",
      "West Virginia: 639.0 m\n",
      "Wyoming: 1882.0 m\n",
      " American Samoa: 0.0 m\n",
      " District of Columbia: 58.0 m\n",
      " Federated States of Micronesia: 487.0 m\n",
      " Guam: 44.0 m\n",
      " Marshall Islands: 0.0 m\n",
      " Northern Mariana Islands: 226.0 m\n",
      " Palau: 84.0 m\n",
      " Puerto Rico: 0.0 m\n",
      " US Virgin Islands: 380.0 m\n",
      "All elevation data collected\n",
      "Data saved to US_GeoCode_elevation.csv\n"
     ]
    }
   ],
   "source": [
    "for i in range(len(df)):\n",
    "    lat = df.iloc[i]['latitude']\n",
    "    lng = df.iloc[i]['longitude']\n",
    "    url = f\"https://api.open-elevation.com/api/v1/lookup?locations={lat},{lng}\"\n",
    "    data = requests.get(url).json()\n",
    "    elevation = data[\"results\"][0][\"elevation\"]\n",
    "    df.loc[i, 'elevation'] = elevation\n",
    "    print(f\"{df.iloc[i]['Name']}: {elevation} m\")\n",
    "\n",
    "print(\"All elevation data collected\")\n",
    "df.to_csv(\"data/US_GeoCode_elevation.csv\", index=False)\n",
    "print(\"Data saved to US_GeoCode_elevation.csv\")"
   ]
  }
 ],
 "metadata": {
  "kernelspec": {
   "display_name": "nasa_space_apps",
   "language": "python",
   "name": "python3"
  },
  "language_info": {
   "codemirror_mode": {
    "name": "ipython",
    "version": 3
   },
   "file_extension": ".py",
   "mimetype": "text/x-python",
   "name": "python",
   "nbconvert_exporter": "python",
   "pygments_lexer": "ipython3",
   "version": "3.12.10"
  }
 },
 "nbformat": 4,
 "nbformat_minor": 5
}
